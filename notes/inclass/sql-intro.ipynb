{
 "cells": [
  {
   "cell_type": "code",
   "execution_count": null,
   "id": "ac478189",
   "metadata": {},
   "outputs": [],
   "source": [
    "! pip install ipython-sql"
   ]
  },
  {
   "cell_type": "code",
   "execution_count": 1,
   "id": "c3346fe7",
   "metadata": {},
   "outputs": [],
   "source": [
    "%load_ext sql"
   ]
  },
  {
   "cell_type": "code",
   "execution_count": 2,
   "id": "6ef722f3",
   "metadata": {},
   "outputs": [],
   "source": [
    "%sql sqlite:///C:\\Users\\bilene\\book.db"
   ]
  },
  {
   "cell_type": "code",
   "execution_count": null,
   "id": "6e205427",
   "metadata": {},
   "outputs": [],
   "source": [
    "output = %sql SELECT pop FROM indicators0"
   ]
  },
  {
   "cell_type": "code",
   "execution_count": null,
   "id": "c9aa7ca3",
   "metadata": {},
   "outputs": [],
   "source": [
    "import pandas as pd\n",
    "pd.DataFrame(output,columns=['pop'])"
   ]
  },
  {
   "cell_type": "code",
   "execution_count": null,
   "id": "4439343d",
   "metadata": {},
   "outputs": [],
   "source": [
    "%%sql \n",
    "output2 <<\n",
    "SELECT pop \n",
    "FROM indicators0"
   ]
  },
  {
   "cell_type": "code",
   "execution_count": null,
   "id": "3467f95f",
   "metadata": {},
   "outputs": [],
   "source": [
    "output2"
   ]
  },
  {
   "cell_type": "code",
   "execution_count": null,
   "id": "b059024e",
   "metadata": {},
   "outputs": [],
   "source": [
    "%%sql\n",
    "SELECT name FROM topnames\n",
    "LIMIT 5"
   ]
  },
  {
   "cell_type": "code",
   "execution_count": null,
   "id": "d1341276",
   "metadata": {},
   "outputs": [],
   "source": [
    "%%sql\n",
    "SELECT year, name, sex FROM topnames\n",
    "LIMIT 5"
   ]
  },
  {
   "cell_type": "code",
   "execution_count": null,
   "id": "455830c7",
   "metadata": {},
   "outputs": [],
   "source": [
    "%%sql\n",
    "SELECT year AS Year, name, sex FROM topnames\n",
    "LIMIT 5"
   ]
  },
  {
   "cell_type": "code",
   "execution_count": null,
   "id": "30a1bf71",
   "metadata": {},
   "outputs": [],
   "source": [
    "%%sql\n",
    "SELECT * FROM topnames\n",
    "LIMIT 5"
   ]
  },
  {
   "cell_type": "code",
   "execution_count": null,
   "id": "886712ea",
   "metadata": {},
   "outputs": [],
   "source": [
    "%%sql\n",
    "-- Here is a one line comment\n",
    "/* Here is a multi line comment\n",
    " Another one */\n",
    "    \n",
    "-- The following returns all tables that exist\n",
    "-- in the database\n",
    "SELECT name FROM sqlite_master WHERE type='table'"
   ]
  },
  {
   "cell_type": "code",
   "execution_count": null,
   "id": "6ec889d1",
   "metadata": {},
   "outputs": [],
   "source": [
    "%%sql\n",
    "-- Row filtering\n",
    "SELECT * FROM indicators \n",
    "WHERE year>=2000\n",
    "LIMIT 10"
   ]
  },
  {
   "cell_type": "code",
   "execution_count": null,
   "id": "e6d27ec8",
   "metadata": {},
   "outputs": [],
   "source": [
    "%%sql\n",
    "SELECT * FROM indicators \n",
    "WHERE pop > 1000 AND life > 60\n",
    "LIMIT 10"
   ]
  },
  {
   "cell_type": "code",
   "execution_count": null,
   "id": "92f84766",
   "metadata": {},
   "outputs": [],
   "source": [
    "%%sql\n",
    "SELECT * FROM countries\n",
    "LIMIT 10"
   ]
  },
  {
   "cell_type": "code",
   "execution_count": null,
   "id": "0a00358c",
   "metadata": {},
   "outputs": [],
   "source": [
    "%%sql\n",
    "-- Return only high income countries\n",
    "SELECT * FROM countries\n",
    "WHERE income = 'High income'\n",
    "LIMIT 5"
   ]
  },
  {
   "cell_type": "code",
   "execution_count": null,
   "id": "be9dd203",
   "metadata": {},
   "outputs": [],
   "source": [
    "%%sql\n",
    "-- Return rows where baby name is not John\n",
    "-- In pandas: name != 'John'\n",
    "SELECT name, sex FROM topnames\n",
    "WHERE name <> 'John'\n",
    "-- keep in mind this still works: WHERE name != 'John'\n",
    "LIMIT 5"
   ]
  },
  {
   "cell_type": "code",
   "execution_count": null,
   "id": "40b9c49b",
   "metadata": {},
   "outputs": [],
   "source": [
    "%%sql\n",
    "SELECT * FROM countries\n",
    "LIMIT 5"
   ]
  },
  {
   "cell_type": "code",
   "execution_count": null,
   "id": "d1dd4dc1",
   "metadata": {},
   "outputs": [],
   "source": [
    "%%sql\n",
    "-- Return countries with land > 10000 and the country must be either\n",
    "-- High income, or Upper middle income\n",
    "\n",
    "SELECT * FROM countries\n",
    "WHERE (land>10000) AND (income='High income' OR income='Upper middle income')\n",
    "LIMIT 5"
   ]
  },
  {
   "cell_type": "code",
   "execution_count": null,
   "id": "bc4d8249",
   "metadata": {},
   "outputs": [],
   "source": [
    "%%sql\n",
    "-- Filter intervals\n",
    "SELECT * FROM indicators\n",
    "WHERE life BETWEEN 65 AND 75\n",
    "LIMIT 5"
   ]
  },
  {
   "cell_type": "code",
   "execution_count": null,
   "id": "2975fab0",
   "metadata": {},
   "outputs": [],
   "source": [
    "%%sql\n",
    "-- Return where year is 2017 and countries with code\n",
    "-- CHN, IND, FRA, USA\n",
    "SELECT * FROM indicators\n",
    "WHERE year = 2017 AND code IN ('CHN','IND','FRA','USA')\n",
    "LIMIT 5"
   ]
  },
  {
   "cell_type": "code",
   "execution_count": null,
   "id": "081210c7",
   "metadata": {},
   "outputs": [],
   "source": [
    "%%sql\n",
    "-- Wildcard, %\n",
    "-- Return countries whose names start with \"United\"\n",
    "SELECT * FROM countries\n",
    "WHERE country LIKE 'United%'\n",
    "LIMIT 5"
   ]
  },
  {
   "cell_type": "code",
   "execution_count": null,
   "id": "82f6a394",
   "metadata": {},
   "outputs": [],
   "source": [
    "%%sql\n",
    "-- Wildcard\n",
    "-- Return back countries whose names start with A and end with a\n",
    "SELECT * FROM countries\n",
    "WHERE country LIKE 'A%a'\n",
    "LIMIT 10"
   ]
  },
  {
   "cell_type": "code",
   "execution_count": null,
   "id": "c6a5a672",
   "metadata": {},
   "outputs": [],
   "source": [
    "%%sql\n",
    "-- Return back the countries whose code ends with \"ZA\"\n",
    "-- forces the output \"code\" to have three characters\n",
    "SELECT * FROM countries\n",
    "WHERE code LIKE '_ZA'"
   ]
  },
  {
   "cell_type": "code",
   "execution_count": null,
   "id": "aa1dbd46",
   "metadata": {
    "scrolled": true
   },
   "outputs": [],
   "source": [
    "%%sql\n",
    "-- Return back the countries whose code ends with \"A\"\n",
    "-- force the output \"code\" to have three characters\n",
    "SELECT * FROM countries\n",
    "WHERE code LIKE \"__A\"\n",
    "LIMIT 10"
   ]
  },
  {
   "cell_type": "code",
   "execution_count": null,
   "id": "fe349aad",
   "metadata": {},
   "outputs": [],
   "source": [
    "%%sql\n",
    "-- return back non-missing values based on a column\n",
    "SELECT * FROM countries\n",
    "WHERE land IS NOT NULL\n",
    "LIMIT 50"
   ]
  },
  {
   "cell_type": "code",
   "execution_count": null,
   "id": "8ac3ad0a",
   "metadata": {},
   "outputs": [],
   "source": [
    "%%sql\n",
    "-- return back missing values based on a column\n",
    "SELECT * FROM countries\n",
    "WHERE land IS NULL\n",
    "LIMIT 50"
   ]
  },
  {
   "cell_type": "code",
   "execution_count": null,
   "id": "4228644d",
   "metadata": {},
   "outputs": [],
   "source": [
    "%%sql\n",
    "-- Create a new column called \"newpop\" that equals pop*1.15 in\n",
    "-- the table indicators0\n",
    "-- round the fractions\n",
    "SELECT *, ROUND(pop*1.15,2) AS newpop FROM indicators0\n",
    "LIMIT 5"
   ]
  },
  {
   "cell_type": "code",
   "execution_count": null,
   "id": "c970ae5e",
   "metadata": {},
   "outputs": [],
   "source": [
    "%%sql\n",
    "-- create an indicator variable (dummy variable, binary variable)\n",
    "-- that equals 1 if life > 75, 0 otherwise.\n",
    "SELECT *, life>75 AS longlife FROM indicators0\n",
    "LIMIT 5"
   ]
  },
  {
   "cell_type": "code",
   "execution_count": null,
   "id": "8f17ae3b",
   "metadata": {},
   "outputs": [],
   "source": [
    "'word1' + ' ' + 'word2'"
   ]
  },
  {
   "cell_type": "code",
   "execution_count": null,
   "id": "5da75ef2",
   "metadata": {},
   "outputs": [],
   "source": [
    "%%sql\n",
    "-- create a new column called country2 that has the following\n",
    "-- format 'Countryname (3digitcode)'\n",
    "-- || in sql is equivalent to + in python\n",
    "SELECT *, country || ' (' || code || ')' AS country2 FROM countries\n",
    "LIMIT 5"
   ]
  },
  {
   "cell_type": "code",
   "execution_count": 4,
   "id": "3c9ba5e2",
   "metadata": {},
   "outputs": [
    {
     "name": "stdout",
     "output_type": "stream",
     "text": [
      " * sqlite:///C:\\Users\\bilene\\book.db\n",
      "Done.\n"
     ]
    },
    {
     "data": {
      "text/html": [
       "<table>\n",
       "    <thead>\n",
       "        <tr>\n",
       "            <th>total</th>\n",
       "        </tr>\n",
       "    </thead>\n",
       "    <tbody>\n",
       "        <tr>\n",
       "            <td>217</td>\n",
       "        </tr>\n",
       "    </tbody>\n",
       "</table>"
      ],
      "text/plain": [
       "[(217,)]"
      ]
     },
     "execution_count": 4,
     "metadata": {},
     "output_type": "execute_result"
    }
   ],
   "source": [
    "%%sql\n",
    "-- COUNT function counts all values\n",
    "-- countries table has 217 observations\n",
    "SELECT COUNT(*) AS total FROM countries"
   ]
  },
  {
   "cell_type": "code",
   "execution_count": 5,
   "id": "9033bfed",
   "metadata": {},
   "outputs": [
    {
     "name": "stdout",
     "output_type": "stream",
     "text": [
      " * sqlite:///C:\\Users\\bilene\\book.db\n",
      "Done.\n"
     ]
    },
    {
     "data": {
      "text/html": [
       "<table>\n",
       "    <thead>\n",
       "        <tr>\n",
       "            <th>missing_land</th>\n",
       "        </tr>\n",
       "    </thead>\n",
       "    <tbody>\n",
       "        <tr>\n",
       "            <td>7</td>\n",
       "        </tr>\n",
       "    </tbody>\n",
       "</table>"
      ],
      "text/plain": [
       "[(7,)]"
      ]
     },
     "execution_count": 5,
     "metadata": {},
     "output_type": "execute_result"
    }
   ],
   "source": [
    "%%sql\n",
    "-- COUNT function counts all values\n",
    "-- countries table has 7 missing rows for 'land'\n",
    "SELECT COUNT(*) AS missing_land FROM countries\n",
    "WHERE land IS NULL"
   ]
  },
  {
   "cell_type": "code",
   "execution_count": 6,
   "id": "179fa643",
   "metadata": {},
   "outputs": [
    {
     "name": "stdout",
     "output_type": "stream",
     "text": [
      " * sqlite:///C:\\Users\\bilene\\book.db\n",
      "Done.\n"
     ]
    },
    {
     "data": {
      "text/html": [
       "<table>\n",
       "    <thead>\n",
       "        <tr>\n",
       "            <th>total</th>\n",
       "            <th>missing_land</th>\n",
       "        </tr>\n",
       "    </thead>\n",
       "    <tbody>\n",
       "        <tr>\n",
       "            <td>217</td>\n",
       "            <td>7</td>\n",
       "        </tr>\n",
       "    </tbody>\n",
       "</table>"
      ],
      "text/plain": [
       "[(217, 7)]"
      ]
     },
     "execution_count": 6,
     "metadata": {},
     "output_type": "execute_result"
    }
   ],
   "source": [
    "%%sql\n",
    "-- put the two numbers side by side\n",
    "-- an example of a nested sql queries\n",
    "SELECT COUNT(*) AS total,\n",
    "(SELECT COUNT(*) FROM countries\n",
    "WHERE land IS NULL) AS missing_land\n",
    "FROM countries"
   ]
  },
  {
   "cell_type": "code",
   "execution_count": 11,
   "id": "c61b9b6e",
   "metadata": {},
   "outputs": [
    {
     "name": "stdout",
     "output_type": "stream",
     "text": [
      " * sqlite:///C:\\Users\\bilene\\book.db\n",
      "Done.\n"
     ]
    },
    {
     "data": {
      "text/html": [
       "<table>\n",
       "    <thead>\n",
       "        <tr>\n",
       "            <th>unique_babynames</th>\n",
       "        </tr>\n",
       "    </thead>\n",
       "    <tbody>\n",
       "        <tr>\n",
       "            <td>18</td>\n",
       "        </tr>\n",
       "    </tbody>\n",
       "</table>"
      ],
      "text/plain": [
       "[(18,)]"
      ]
     },
     "execution_count": 11,
     "metadata": {},
     "output_type": "execute_result"
    }
   ],
   "source": [
    "%%sql\n",
    "-- count the number of unique names inside the topnames table\n",
    "-- change the column name to unique_babynames\n",
    "SELECT COUNT(DISTINCT name) AS unique_babynames FROM topnames"
   ]
  },
  {
   "cell_type": "code",
   "execution_count": 12,
   "id": "d73b49c9",
   "metadata": {},
   "outputs": [
    {
     "name": "stdout",
     "output_type": "stream",
     "text": [
      " * sqlite:///C:\\Users\\bilene\\book.db\n",
      "Done.\n"
     ]
    },
    {
     "data": {
      "text/html": [
       "<table>\n",
       "    <thead>\n",
       "        <tr>\n",
       "            <th>code</th>\n",
       "            <th>pop</th>\n",
       "            <th>gdp</th>\n",
       "            <th>life</th>\n",
       "            <th>cell</th>\n",
       "        </tr>\n",
       "    </thead>\n",
       "    <tbody>\n",
       "        <tr>\n",
       "            <td>CHN</td>\n",
       "            <td>1386.4</td>\n",
       "            <td>12143.5</td>\n",
       "            <td>76.4</td>\n",
       "            <td>1469.88</td>\n",
       "        </tr>\n",
       "        <tr>\n",
       "            <td>FRA</td>\n",
       "            <td>66.87</td>\n",
       "            <td>2586.29</td>\n",
       "            <td>82.5</td>\n",
       "            <td>69.02</td>\n",
       "        </tr>\n",
       "        <tr>\n",
       "            <td>GBR</td>\n",
       "            <td>66.06</td>\n",
       "            <td>2637.87</td>\n",
       "            <td>81.2</td>\n",
       "            <td>79.1</td>\n",
       "        </tr>\n",
       "        <tr>\n",
       "            <td>IND</td>\n",
       "            <td>1338.66</td>\n",
       "            <td>2652.55</td>\n",
       "            <td>68.8</td>\n",
       "            <td>1168.9</td>\n",
       "        </tr>\n",
       "        <tr>\n",
       "            <td>USA</td>\n",
       "            <td>325.15</td>\n",
       "            <td>19485.4</td>\n",
       "            <td>78.5</td>\n",
       "            <td>391.6</td>\n",
       "        </tr>\n",
       "    </tbody>\n",
       "</table>"
      ],
      "text/plain": [
       "[('CHN', 1386.4, 12143.5, 76.4, 1469.88),\n",
       " ('FRA', 66.87, 2586.29, 82.5, 69.02),\n",
       " ('GBR', 66.06, 2637.87, 81.2, 79.1),\n",
       " ('IND', 1338.66, 2652.55, 68.8, 1168.9),\n",
       " ('USA', 325.15, 19485.4, 78.5, 391.6)]"
      ]
     },
     "execution_count": 12,
     "metadata": {},
     "output_type": "execute_result"
    }
   ],
   "source": [
    "%%sql\n",
    "SELECT * FROM indicators0\n",
    "LIMIT 5"
   ]
  },
  {
   "cell_type": "code",
   "execution_count": 25,
   "id": "a59f3b78",
   "metadata": {},
   "outputs": [
    {
     "name": "stdout",
     "output_type": "stream",
     "text": [
      " * sqlite:///C:\\Users\\bilene\\book.db\n",
      "Done.\n"
     ]
    },
    {
     "data": {
      "text/html": [
       "<table>\n",
       "    <thead>\n",
       "        <tr>\n",
       "            <th>avg_pop</th>\n",
       "            <th>avg_gdp</th>\n",
       "            <th>avg_life</th>\n",
       "            <th>avg_cell</th>\n",
       "            <th>n_obs</th>\n",
       "        </tr>\n",
       "    </thead>\n",
       "    <tbody>\n",
       "        <tr>\n",
       "            <td>636.63</td>\n",
       "            <td>7901.122</td>\n",
       "            <td>77.48</td>\n",
       "            <td>635.7</td>\n",
       "            <td>5</td>\n",
       "        </tr>\n",
       "    </tbody>\n",
       "</table>"
      ],
      "text/plain": [
       "[(636.63, 7901.122, 77.48, 635.7, 5)]"
      ]
     },
     "execution_count": 25,
     "metadata": {},
     "output_type": "execute_result"
    }
   ],
   "source": [
    "%%sql\n",
    "-- return a table that contains the average pop, gdp\n",
    "-- life, cell in the entire table\n",
    "SELECT ROUND(AVG(pop),2) AS avg_pop, AVG(gdp) AS avg_gdp, \n",
    "AVG(life) AS avg_life, AVG(cell) AS avg_cell, COUNT(*) AS n_obs\n",
    "FROM indicators0"
   ]
  },
  {
   "cell_type": "code",
   "execution_count": 32,
   "id": "3df48b18",
   "metadata": {},
   "outputs": [
    {
     "name": "stdout",
     "output_type": "stream",
     "text": [
      " * sqlite:///C:\\Users\\bilene\\book.db\n",
      "Done.\n"
     ]
    },
    {
     "data": {
      "text/html": [
       "<table>\n",
       "    <thead>\n",
       "        <tr>\n",
       "            <th>code</th>\n",
       "            <th>pop</th>\n",
       "            <th>gdp</th>\n",
       "            <th>life</th>\n",
       "            <th>cell</th>\n",
       "        </tr>\n",
       "    </thead>\n",
       "    <tbody>\n",
       "        <tr>\n",
       "            <td>CHN</td>\n",
       "            <td>1386.4</td>\n",
       "            <td>12143.5</td>\n",
       "            <td>76.4</td>\n",
       "            <td>1469.88</td>\n",
       "        </tr>\n",
       "        <tr>\n",
       "            <td>USA</td>\n",
       "            <td>325.15</td>\n",
       "            <td>19485.4</td>\n",
       "            <td>78.5</td>\n",
       "            <td>391.6</td>\n",
       "        </tr>\n",
       "    </tbody>\n",
       "</table>"
      ],
      "text/plain": [
       "[('CHN', 1386.4, 12143.5, 76.4, 1469.88),\n",
       " ('USA', 325.15, 19485.4, 78.5, 391.6)]"
      ]
     },
     "execution_count": 32,
     "metadata": {},
     "output_type": "execute_result"
    }
   ],
   "source": [
    "%%sql\n",
    "-- return back all columns that exist in the indicators0 table\n",
    "-- for countries whose gdp is greater than the average gdp\n",
    "-- of the countries in the dataset\n",
    "SELECT *\n",
    "FROM indicators0\n",
    "WHERE gdp>(SELECT AVG(gdp) FROM indicators0)"
   ]
  },
  {
   "cell_type": "code",
   "execution_count": 34,
   "id": "52ffb6d8",
   "metadata": {},
   "outputs": [
    {
     "name": "stdout",
     "output_type": "stream",
     "text": [
      " * sqlite:///C:\\Users\\bilene\\book.db\n",
      "Done.\n"
     ]
    },
    {
     "data": {
      "text/html": [
       "<table>\n",
       "    <thead>\n",
       "        <tr>\n",
       "            <th>year</th>\n",
       "            <th>code</th>\n",
       "            <th>pop</th>\n",
       "            <th>gdp</th>\n",
       "            <th>life</th>\n",
       "            <th>cell</th>\n",
       "            <th>imports</th>\n",
       "            <th>exports</th>\n",
       "        </tr>\n",
       "    </thead>\n",
       "    <tbody>\n",
       "        <tr>\n",
       "            <td>1990</td>\n",
       "            <td>ARG</td>\n",
       "            <td>32.62</td>\n",
       "            <td>141.35</td>\n",
       "            <td>71.6</td>\n",
       "            <td>0.01</td>\n",
       "            <td>4078.48</td>\n",
       "            <td>12352.0</td>\n",
       "        </tr>\n",
       "        <tr>\n",
       "            <td>1990</td>\n",
       "            <td>AUS</td>\n",
       "            <td>17.07</td>\n",
       "            <td>310.77</td>\n",
       "            <td>77.0</td>\n",
       "            <td>0.18</td>\n",
       "            <td>43051.4</td>\n",
       "            <td>38982.5</td>\n",
       "        </tr>\n",
       "        <tr>\n",
       "            <td>1990</td>\n",
       "            <td>AUT</td>\n",
       "            <td>7.68</td>\n",
       "            <td>166.46</td>\n",
       "            <td>75.6</td>\n",
       "            <td>0.07</td>\n",
       "            <td>49287.2</td>\n",
       "            <td>41389.8</td>\n",
       "        </tr>\n",
       "        <tr>\n",
       "            <td>1990</td>\n",
       "            <td>BEL</td>\n",
       "            <td>9.97</td>\n",
       "            <td>206.43</td>\n",
       "            <td>76.1</td>\n",
       "            <td>0.04</td>\n",
       "            <td>None</td>\n",
       "            <td>None</td>\n",
       "        </tr>\n",
       "        <tr>\n",
       "            <td>1990</td>\n",
       "            <td>BRA</td>\n",
       "            <td>149.0</td>\n",
       "            <td>461.95</td>\n",
       "            <td>65.3</td>\n",
       "            <td>0.0</td>\n",
       "            <td>24977.3</td>\n",
       "            <td>31388.9</td>\n",
       "        </tr>\n",
       "        <tr>\n",
       "            <td>1990</td>\n",
       "            <td>CAN</td>\n",
       "            <td>27.69</td>\n",
       "            <td>593.93</td>\n",
       "            <td>77.4</td>\n",
       "            <td>0.58</td>\n",
       "            <td>131641.0</td>\n",
       "            <td>126441.0</td>\n",
       "        </tr>\n",
       "        <tr>\n",
       "            <td>1990</td>\n",
       "            <td>CHE</td>\n",
       "            <td>6.72</td>\n",
       "            <td>258.07</td>\n",
       "            <td>77.2</td>\n",
       "            <td>0.13</td>\n",
       "            <td>69703.8</td>\n",
       "            <td>63797.4</td>\n",
       "        </tr>\n",
       "        <tr>\n",
       "            <td>1990</td>\n",
       "            <td>CHN</td>\n",
       "            <td>1135.18</td>\n",
       "            <td>360.86</td>\n",
       "            <td>69.3</td>\n",
       "            <td>0.02</td>\n",
       "            <td>53809.6</td>\n",
       "            <td>62755.9</td>\n",
       "        </tr>\n",
       "        <tr>\n",
       "            <td>1990</td>\n",
       "            <td>DEU</td>\n",
       "            <td>79.43</td>\n",
       "            <td>1764.97</td>\n",
       "            <td>75.2</td>\n",
       "            <td>0.27</td>\n",
       "            <td>346415.0</td>\n",
       "            <td>408874.0</td>\n",
       "        </tr>\n",
       "        <tr>\n",
       "            <td>1990</td>\n",
       "            <td>DNK</td>\n",
       "            <td>5.14</td>\n",
       "            <td>138.25</td>\n",
       "            <td>74.8</td>\n",
       "            <td>0.15</td>\n",
       "            <td>31371.7</td>\n",
       "            <td>34030.1</td>\n",
       "        </tr>\n",
       "        <tr>\n",
       "            <td>1990</td>\n",
       "            <td>ESP</td>\n",
       "            <td>38.87</td>\n",
       "            <td>535.1</td>\n",
       "            <td>76.8</td>\n",
       "            <td>0.05</td>\n",
       "            <td>87808.4</td>\n",
       "            <td>55651.4</td>\n",
       "        </tr>\n",
       "        <tr>\n",
       "            <td>1990</td>\n",
       "            <td>FIN</td>\n",
       "            <td>4.99</td>\n",
       "            <td>141.52</td>\n",
       "            <td>74.8</td>\n",
       "            <td>0.26</td>\n",
       "            <td>26943.9</td>\n",
       "            <td>26569.6</td>\n",
       "        </tr>\n",
       "        <tr>\n",
       "            <td>1990</td>\n",
       "            <td>FRA</td>\n",
       "            <td>58.24</td>\n",
       "            <td>1269.18</td>\n",
       "            <td>76.6</td>\n",
       "            <td>0.28</td>\n",
       "            <td>233954.0</td>\n",
       "            <td>212086.0</td>\n",
       "        </tr>\n",
       "        <tr>\n",
       "            <td>1990</td>\n",
       "            <td>GBR</td>\n",
       "            <td>57.25</td>\n",
       "            <td>1093.17</td>\n",
       "            <td>75.9</td>\n",
       "            <td>1.11</td>\n",
       "            <td>223036.0</td>\n",
       "            <td>185030.0</td>\n",
       "        </tr>\n",
       "        <tr>\n",
       "            <td>1990</td>\n",
       "            <td>IND</td>\n",
       "            <td>873.28</td>\n",
       "            <td>320.98</td>\n",
       "            <td>57.9</td>\n",
       "            <td>0.0</td>\n",
       "            <td>23991.4</td>\n",
       "            <td>17811.2</td>\n",
       "        </tr>\n",
       "        <tr>\n",
       "            <td>1990</td>\n",
       "            <td>IRQ</td>\n",
       "            <td>17.42</td>\n",
       "            <td>179.89</td>\n",
       "            <td>66.1</td>\n",
       "            <td>0.0</td>\n",
       "            <td>6525.51</td>\n",
       "            <td>10313.6</td>\n",
       "        </tr>\n",
       "        <tr>\n",
       "            <td>1990</td>\n",
       "            <td>ITA</td>\n",
       "            <td>56.72</td>\n",
       "            <td>1177.33</td>\n",
       "            <td>77.0</td>\n",
       "            <td>0.27</td>\n",
       "            <td>181767.0</td>\n",
       "            <td>170275.0</td>\n",
       "        </tr>\n",
       "        <tr>\n",
       "            <td>1990</td>\n",
       "            <td>JPN</td>\n",
       "            <td>123.54</td>\n",
       "            <td>3132.82</td>\n",
       "            <td>78.8</td>\n",
       "            <td>0.87</td>\n",
       "            <td>235333.0</td>\n",
       "            <td>287796.0</td>\n",
       "        </tr>\n",
       "        <tr>\n",
       "            <td>1990</td>\n",
       "            <td>KOR</td>\n",
       "            <td>42.87</td>\n",
       "            <td>279.35</td>\n",
       "            <td>71.6</td>\n",
       "            <td>0.08</td>\n",
       "            <td>74404.9</td>\n",
       "            <td>67813.9</td>\n",
       "        </tr>\n",
       "        <tr>\n",
       "            <td>1990</td>\n",
       "            <td>MEX</td>\n",
       "            <td>83.94</td>\n",
       "            <td>261.25</td>\n",
       "            <td>70.8</td>\n",
       "            <td>0.06</td>\n",
       "            <td>33021.2</td>\n",
       "            <td>27167.3</td>\n",
       "        </tr>\n",
       "        <tr>\n",
       "            <td>1990</td>\n",
       "            <td>NLD</td>\n",
       "            <td>14.95</td>\n",
       "            <td>318.33</td>\n",
       "            <td>76.9</td>\n",
       "            <td>0.08</td>\n",
       "            <td>123379.0</td>\n",
       "            <td>130662.0</td>\n",
       "        </tr>\n",
       "        <tr>\n",
       "            <td>1990</td>\n",
       "            <td>RUS</td>\n",
       "            <td>148.29</td>\n",
       "            <td>516.81</td>\n",
       "            <td>68.9</td>\n",
       "            <td>0.0</td>\n",
       "            <td>None</td>\n",
       "            <td>None</td>\n",
       "        </tr>\n",
       "        <tr>\n",
       "            <td>1990</td>\n",
       "            <td>SWE</td>\n",
       "            <td>8.56</td>\n",
       "            <td>258.44</td>\n",
       "            <td>77.5</td>\n",
       "            <td>0.46</td>\n",
       "            <td>49354.0</td>\n",
       "            <td>53066.2</td>\n",
       "        </tr>\n",
       "        <tr>\n",
       "            <td>1990</td>\n",
       "            <td>TUR</td>\n",
       "            <td>53.92</td>\n",
       "            <td>150.68</td>\n",
       "            <td>64.3</td>\n",
       "            <td>0.03</td>\n",
       "            <td>23147.1</td>\n",
       "            <td>13384.4</td>\n",
       "        </tr>\n",
       "        <tr>\n",
       "            <td>1990</td>\n",
       "            <td>USA</td>\n",
       "            <td>249.62</td>\n",
       "            <td>5963.14</td>\n",
       "            <td>75.2</td>\n",
       "            <td>5.28</td>\n",
       "            <td>517014.0</td>\n",
       "            <td>392743.0</td>\n",
       "        </tr>\n",
       "    </tbody>\n",
       "</table>"
      ],
      "text/plain": [
       "[(1990, 'ARG', 32.62, 141.35, 71.6, 0.01, 4078.48, 12352.0),\n",
       " (1990, 'AUS', 17.07, 310.77, 77.0, 0.18, 43051.4, 38982.5),\n",
       " (1990, 'AUT', 7.68, 166.46, 75.6, 0.07, 49287.2, 41389.8),\n",
       " (1990, 'BEL', 9.97, 206.43, 76.1, 0.04, None, None),\n",
       " (1990, 'BRA', 149.0, 461.95, 65.3, 0.0, 24977.3, 31388.9),\n",
       " (1990, 'CAN', 27.69, 593.93, 77.4, 0.58, 131641.0, 126441.0),\n",
       " (1990, 'CHE', 6.72, 258.07, 77.2, 0.13, 69703.8, 63797.4),\n",
       " (1990, 'CHN', 1135.18, 360.86, 69.3, 0.02, 53809.6, 62755.9),\n",
       " (1990, 'DEU', 79.43, 1764.97, 75.2, 0.27, 346415.0, 408874.0),\n",
       " (1990, 'DNK', 5.14, 138.25, 74.8, 0.15, 31371.7, 34030.1),\n",
       " (1990, 'ESP', 38.87, 535.1, 76.8, 0.05, 87808.4, 55651.4),\n",
       " (1990, 'FIN', 4.99, 141.52, 74.8, 0.26, 26943.9, 26569.6),\n",
       " (1990, 'FRA', 58.24, 1269.18, 76.6, 0.28, 233954.0, 212086.0),\n",
       " (1990, 'GBR', 57.25, 1093.17, 75.9, 1.11, 223036.0, 185030.0),\n",
       " (1990, 'IND', 873.28, 320.98, 57.9, 0.0, 23991.4, 17811.2),\n",
       " (1990, 'IRQ', 17.42, 179.89, 66.1, 0.0, 6525.51, 10313.6),\n",
       " (1990, 'ITA', 56.72, 1177.33, 77.0, 0.27, 181767.0, 170275.0),\n",
       " (1990, 'JPN', 123.54, 3132.82, 78.8, 0.87, 235333.0, 287796.0),\n",
       " (1990, 'KOR', 42.87, 279.35, 71.6, 0.08, 74404.9, 67813.9),\n",
       " (1990, 'MEX', 83.94, 261.25, 70.8, 0.06, 33021.2, 27167.3),\n",
       " (1990, 'NLD', 14.95, 318.33, 76.9, 0.08, 123379.0, 130662.0),\n",
       " (1990, 'RUS', 148.29, 516.81, 68.9, 0.0, None, None),\n",
       " (1990, 'SWE', 8.56, 258.44, 77.5, 0.46, 49354.0, 53066.2),\n",
       " (1990, 'TUR', 53.92, 150.68, 64.3, 0.03, 23147.1, 13384.4),\n",
       " (1990, 'USA', 249.62, 5963.14, 75.2, 5.28, 517014.0, 392743.0)]"
      ]
     },
     "execution_count": 34,
     "metadata": {},
     "output_type": "execute_result"
    }
   ],
   "source": [
    "%%sql\n",
    "-- return back the countries whose gdp is greater than\n",
    "-- the average gdp in 1990 for the year 1990\n",
    "-- using the indicators table\n",
    "SELECT * FROM indicators\n",
    "WHERE gdp>(SELECT AVG(gdp) FROM indicators\n",
    "          WHERE year=1990)\n",
    "AND year=1990"
   ]
  },
  {
   "cell_type": "code",
   "execution_count": 39,
   "id": "e5f19621",
   "metadata": {},
   "outputs": [
    {
     "name": "stdout",
     "output_type": "stream",
     "text": [
      " * sqlite:///C:\\Users\\bilene\\book.db\n",
      "Done.\n"
     ]
    },
    {
     "data": {
      "text/html": [
       "<table>\n",
       "    <thead>\n",
       "        <tr>\n",
       "            <th>SUM(land)</th>\n",
       "        </tr>\n",
       "    </thead>\n",
       "    <tbody>\n",
       "        <tr>\n",
       "            <td>127307840.0</td>\n",
       "        </tr>\n",
       "    </tbody>\n",
       "</table>"
      ],
      "text/plain": [
       "[(127307840.0,)]"
      ]
     },
     "execution_count": 39,
     "metadata": {},
     "output_type": "execute_result"
    }
   ],
   "source": [
    "%%sql\n",
    "-- calculate the total land area of all countries in the\n",
    "-- countries table\n",
    "SELECT SUM(land) FROM countries"
   ]
  },
  {
   "cell_type": "code",
   "execution_count": 43,
   "id": "223b4761",
   "metadata": {},
   "outputs": [
    {
     "name": "stdout",
     "output_type": "stream",
     "text": [
      " * sqlite:///C:\\Users\\bilene\\book.db\n",
      "Done.\n"
     ]
    },
    {
     "data": {
      "text/html": [
       "<table>\n",
       "    <thead>\n",
       "        <tr>\n",
       "            <th>region</th>\n",
       "            <th>total_land</th>\n",
       "        </tr>\n",
       "    </thead>\n",
       "    <tbody>\n",
       "        <tr>\n",
       "            <td>Europe &amp; Central Asia</td>\n",
       "            <td>27429254.6</td>\n",
       "        </tr>\n",
       "        <tr>\n",
       "            <td>East Asia &amp; Pacific</td>\n",
       "            <td>24361338.4</td>\n",
       "        </tr>\n",
       "        <tr>\n",
       "            <td>Sub-Saharan Africa</td>\n",
       "            <td>21242361.0</td>\n",
       "        </tr>\n",
       "        <tr>\n",
       "            <td>Latin America &amp; Caribbean</td>\n",
       "            <td>20038832.0</td>\n",
       "        </tr>\n",
       "        <tr>\n",
       "            <td>North America</td>\n",
       "            <td>18240984.0</td>\n",
       "        </tr>\n",
       "        <tr>\n",
       "            <td>Middle East &amp; North Africa</td>\n",
       "            <td>11223466.0</td>\n",
       "        </tr>\n",
       "        <tr>\n",
       "            <td>South Asia</td>\n",
       "            <td>4771604.0</td>\n",
       "        </tr>\n",
       "    </tbody>\n",
       "</table>"
      ],
      "text/plain": [
       "[('Europe & Central Asia', 27429254.6),\n",
       " ('East Asia & Pacific', 24361338.4),\n",
       " ('Sub-Saharan Africa', 21242361.0),\n",
       " ('Latin America & Caribbean', 20038832.0),\n",
       " ('North America', 18240984.0),\n",
       " ('Middle East & North Africa', 11223466.0),\n",
       " ('South Asia', 4771604.0)]"
      ]
     },
     "execution_count": 43,
     "metadata": {},
     "output_type": "execute_result"
    }
   ],
   "source": [
    "%%sql\n",
    "-- return the total land area by region\n",
    "SELECT region, SUM(land) AS total_land FROM countries\n",
    "GROUP BY region\n",
    "ORDER BY total_land DESC"
   ]
  },
  {
   "cell_type": "code",
   "execution_count": 47,
   "id": "048211cc",
   "metadata": {},
   "outputs": [
    {
     "name": "stdout",
     "output_type": "stream",
     "text": [
      " * sqlite:///C:\\Users\\bilene\\book.db\n",
      "Done.\n"
     ]
    },
    {
     "data": {
      "text/html": [
       "<table>\n",
       "    <thead>\n",
       "        <tr>\n",
       "            <th>country</th>\n",
       "            <th>land</th>\n",
       "        </tr>\n",
       "    </thead>\n",
       "    <tbody>\n",
       "        <tr>\n",
       "            <td>Russian Federation</td>\n",
       "            <td>16376900.0</td>\n",
       "        </tr>\n",
       "        <tr>\n",
       "            <td>China</td>\n",
       "            <td>9388210.0</td>\n",
       "        </tr>\n",
       "        <tr>\n",
       "            <td>United States</td>\n",
       "            <td>9147420.0</td>\n",
       "        </tr>\n",
       "        <tr>\n",
       "            <td>Canada</td>\n",
       "            <td>9093510.0</td>\n",
       "        </tr>\n",
       "        <tr>\n",
       "            <td>Brazil</td>\n",
       "            <td>8358140.0</td>\n",
       "        </tr>\n",
       "        <tr>\n",
       "            <td>Australia</td>\n",
       "            <td>7692020.0</td>\n",
       "        </tr>\n",
       "        <tr>\n",
       "            <td>India</td>\n",
       "            <td>2973190.0</td>\n",
       "        </tr>\n",
       "        <tr>\n",
       "            <td>Argentina</td>\n",
       "            <td>2736690.0</td>\n",
       "        </tr>\n",
       "        <tr>\n",
       "            <td>Kazakhstan</td>\n",
       "            <td>2699700.0</td>\n",
       "        </tr>\n",
       "        <tr>\n",
       "            <td>Algeria</td>\n",
       "            <td>2381740.0</td>\n",
       "        </tr>\n",
       "    </tbody>\n",
       "</table>"
      ],
      "text/plain": [
       "[('Russian Federation', 16376900.0),\n",
       " ('China', 9388210.0),\n",
       " ('United States', 9147420.0),\n",
       " ('Canada', 9093510.0),\n",
       " ('Brazil', 8358140.0),\n",
       " ('Australia', 7692020.0),\n",
       " ('India', 2973190.0),\n",
       " ('Argentina', 2736690.0),\n",
       " ('Kazakhstan', 2699700.0),\n",
       " ('Algeria', 2381740.0)]"
      ]
     },
     "execution_count": 47,
     "metadata": {},
     "output_type": "execute_result"
    }
   ],
   "source": [
    "%%sql\n",
    "-- return back a table that shows \n",
    "-- the land area of each county\n",
    "-- sorted by land area (descending)\n",
    "SELECT country, land FROM countries\n",
    "ORDER BY land DESC\n",
    "LIMIT 10"
   ]
  },
  {
   "cell_type": "code",
   "execution_count": 51,
   "id": "6e2301cd",
   "metadata": {},
   "outputs": [
    {
     "name": "stdout",
     "output_type": "stream",
     "text": [
      " * sqlite:///C:\\Users\\bilene\\book.db\n",
      "Done.\n"
     ]
    },
    {
     "data": {
      "text/html": [
       "<table>\n",
       "    <thead>\n",
       "        <tr>\n",
       "            <th>region</th>\n",
       "            <th>total_land</th>\n",
       "        </tr>\n",
       "    </thead>\n",
       "    <tbody>\n",
       "        <tr>\n",
       "            <td>East Asia &amp; Pacific</td>\n",
       "            <td>24361338.4</td>\n",
       "        </tr>\n",
       "        <tr>\n",
       "            <td>Europe &amp; Central Asia</td>\n",
       "            <td>27429254.6</td>\n",
       "        </tr>\n",
       "        <tr>\n",
       "            <td>Latin America &amp; Caribbean</td>\n",
       "            <td>20038832.0</td>\n",
       "        </tr>\n",
       "        <tr>\n",
       "            <td>Sub-Saharan Africa</td>\n",
       "            <td>21242361.0</td>\n",
       "        </tr>\n",
       "    </tbody>\n",
       "</table>"
      ],
      "text/plain": [
       "[('East Asia & Pacific', 24361338.4),\n",
       " ('Europe & Central Asia', 27429254.6),\n",
       " ('Latin America & Caribbean', 20038832.0),\n",
       " ('Sub-Saharan Africa', 21242361.0)]"
      ]
     },
     "execution_count": 51,
     "metadata": {},
     "output_type": "execute_result"
    }
   ],
   "source": [
    "%%sql\n",
    "-- how do you groupby and then filter after?\n",
    "SELECT region, SUM(land) AS total_land FROM countries\n",
    "GROUP BY region\n",
    "HAVING total_land > 20000000"
   ]
  },
  {
   "cell_type": "code",
   "execution_count": null,
   "id": "7ca07007",
   "metadata": {},
   "outputs": [],
   "source": []
  }
 ],
 "metadata": {
  "kernelspec": {
   "display_name": "Python 3",
   "language": "python",
   "name": "python3"
  },
  "language_info": {
   "codemirror_mode": {
    "name": "ipython",
    "version": 3
   },
   "file_extension": ".py",
   "mimetype": "text/x-python",
   "name": "python",
   "nbconvert_exporter": "python",
   "pygments_lexer": "ipython3",
   "version": "3.9.11"
  }
 },
 "nbformat": 4,
 "nbformat_minor": 5
}
