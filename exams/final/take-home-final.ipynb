{
 "cells": [
  {
   "cell_type": "markdown",
   "id": "3a60694c",
   "metadata": {},
   "source": [
    "# Data 200: Database Systems and Data Management for Data Analytics\n"
   ]
  },
  {
   "cell_type": "markdown",
   "id": "f9048bf2",
   "metadata": {},
   "source": [
    "# Name:"
   ]
  },
  {
   "cell_type": "markdown",
   "id": "7d999038",
   "metadata": {},
   "source": [
    "# Take Home Final Exam\n",
    "<font color='red'>**Due Date:** May 16, 12pm (noon) </font>\n",
    "---\n",
    "\n",
    "Task: Scrape data from a job search website\n",
    "\n",
    "\n",
    "Website: Indeed.com\n",
    "\n",
    "Objective: Collect job postings that match certain keywords and location filters, and then perform data analysis to extract insights about the job market.\n",
    "\n",
    "Instructions:\n",
    "\n",
    "1. Choose a location and a set of keywords that are relevant to your field of study. For example, you can schoose a field such as data science, computer science, or any other field you are interested in. In terms of the location, you might choose to search for \"data analytics\" jobs in \"San Francisco\". You are free to choose the field and location on this assignment.\n",
    "2. Scrape job postings from Indeed.com using selenium and python. Your code should extract the following information for each job posting:\n",
    "- Job title\n",
    "- Company name\n",
    "- Job description\n",
    "- Job location\n",
    "- Date posted\n",
    "3. Clean and preprocess the data as necessary. You may want to remove duplicates and perform other data cleaning tasks to prepare the data for analysis.\n",
    "4. Use data analysis techniques to extract insights about the job market. For example, you might:\n",
    "- Identify which companies are hiring the most for the given job titles and locations.\n",
    "- Determine the distribution of job titles and their average salaries.\n",
    "- Analyze the frequency of certain keywords in job descriptions, and determine which skills and qualifications are most in demand.\n",
    "5. Write a report summarizing your findings. Your report should include tables and visualizations to support your conclusions, and should provide actionable insights that could be used by job seekers, employers, or policymakers.\n",
    "Submit your code and report as a single .ipynb file (you can do it in this current notebook as a combination of code cells and markdown cells), along with any necessary instructions for running your code. Make sure your code is well-documented and organized, and that your report is well-written and easy to follow. <br> <br>\n",
    "Note: You do not need to perform text analysis or create word clouds for this exam. However, if you are interested in learning more about these techniques, you may want to explore them on your own as a side project.\n",
    "<br><br>\n",
    "Here is the rubric that I will use to grade your final exam:\n",
    "\n",
    "| Item                        | Weight |\n",
    "|-----------------------------|--------|\n",
    "| Code accuracy               | 25%    |\n",
    "| Code clarity and annotation | 25%    |\n",
    "| Exploratory data analysis   | 25%    |\n",
    "| Discussion of findings      | 25%    |\n",
    "\n",
    "<br>\n",
    "Good luck!\n"
   ]
  },
  {
   "cell_type": "code",
   "execution_count": null,
   "id": "cfc9b3f9",
   "metadata": {},
   "outputs": [],
   "source": []
  }
 ],
 "metadata": {
  "kernelspec": {
   "display_name": "Python 3 (ipykernel)",
   "language": "python",
   "name": "python3"
  },
  "language_info": {
   "codemirror_mode": {
    "name": "ipython",
    "version": 3
   },
   "file_extension": ".py",
   "mimetype": "text/x-python",
   "name": "python",
   "nbconvert_exporter": "python",
   "pygments_lexer": "ipython3",
   "version": "3.9.13"
  }
 },
 "nbformat": 4,
 "nbformat_minor": 5
}
